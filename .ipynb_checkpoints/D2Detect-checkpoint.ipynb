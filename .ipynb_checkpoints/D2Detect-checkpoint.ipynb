{
 "cells": [
  {
   "cell_type": "code",
   "execution_count": 27,
   "id": "0421db84",
   "metadata": {},
   "outputs": [],
   "source": [
    "import os, json, cv2, random"
   ]
  },
  {
   "cell_type": "code",
   "execution_count": 17,
   "id": "6ce8ef94",
   "metadata": {},
   "outputs": [],
   "source": [
    "from PIL import Image\n",
    "import numpy as np\n",
    "import cv2\n",
    "import os\n",
    "\n",
    "from detectron2.data.datasets import register_coco_instances\n",
    "from detectron2.data import MetadataCatalog, DatasetCatalog\n",
    "from detectron2.utils.visualizer import Visualizer\n",
    "from detectron2.engine import DefaultPredictor\n",
    "from detectron2.config import get_cfg\n",
    "from detectron2 import model_zoo\n",
    "\n",
    "\n",
    "\n",
    "cfg = get_cfg()\n",
    "cfg.merge_from_file(model_zoo.get_config_file(\"./COCO-Detection/faster_rcnn_R_101_FPN_3x.yaml\"))\n",
    "cfg.MODEL.ROI_HEADS.SCORE_THRESH_TEST = 0.7   # set a custom testing threshold\n",
    "cfg.MODEL.ROI_HEADS.NUM_CLASSES = 2\n",
    "# cfg.MODEL.WEIGHTS = \"./OutputModels/model_final.pth\"\n",
    "cfg.MODEL.WEIGHTS = \"./OutputModelsDect/model_final.pth\"\n",
    "cfg.MODEL.DEVICE = \"cpu\"\n",
    "\n",
    "\n",
    "\n",
    "classes = [\"benign\",\"malignant\"]\n",
    "dataset_name = \"val\"\n",
    "MetadataCatalog.get(dataset_name).set(things_classes = classes)\n",
    "# register_coco_instances(\"val\",{},\"Data/val.json\",\"Data/val\")\n",
    "# val_metadata = MetadataCatalog.get('val')\n",
    "\n",
    "predictor = DefaultPredictor(cfg)\n",
    "\n",
    "classes = [\"benign\",\"malignant\"]\n",
    "\n",
    "upload_dir = \"./uploadeImages/\"\n",
    "predict_dir = \"./predictedImages/\"\n",
    "os.makedirs(upload_dir,exist_ok=True)\n",
    "os.makedirs(predict_dir,exist_ok=True)"
   ]
  },
  {
   "cell_type": "code",
   "execution_count": 25,
   "id": "d5957210",
   "metadata": {},
   "outputs": [],
   "source": [
    "img = Image.open(val_dicts[0][\"file_name\"])\n",
    "imgarray = np.array(img)[:, :, ::-1]\n",
    "res = predictor(imgarray)\n",
    "\n",
    "filename = val_dicts[0][\"file_name\"].split(\"\\\\\")[-1:][0]\n",
    "predict_fle = os.path.join(predict_dir,filename)\n",
    "v = Visualizer(img, metadata=val_metadata, scale=0.8)\n",
    "v = v.draw_instance_predictions(res[\"instances\"].to(\"cpu\"))\n",
    "cv2.imwrite(predict_fle,v.get_image()[:, :, ::-1]) #save predicted images\n",
    "\n",
    "pred_classes = res[\"instances\"].to(\"cpu\").pred_classes.tolist()[0]\n",
    "pred_scores = res[\"instances\"].to(\"cpu\").scores.tolist()[0]\n",
    "pred_boxes = res[\"instances\"].to(\"cpu\").pred_boxes"
   ]
  },
  {
   "cell_type": "code",
   "execution_count": 49,
   "id": "70247211",
   "metadata": {},
   "outputs": [
    {
     "name": "stdout",
     "output_type": "stream",
     "text": [
      "Data/val\\ISIC_6404049A3.jpg\n",
      "Data/val\\ISIC_9900262.jpg\n",
      "Data/val\\ISIC_9944931.jpg\n",
      "Data/val\\ISIC_0264941.jpg\n",
      "Data/val\\ISIC_9900191A4.jpg\n",
      "Data/val\\ISIC_9870885.jpg\n",
      "Data/val\\ISIC_9770677.jpg\n",
      "Data/val\\ISIC_9919143.jpg\n",
      "Data/val\\ISIC_9927490.jpg\n",
      "Data/val\\ISIC_9785077A4.jpg\n"
     ]
    }
   ],
   "source": [
    "for d in random.sample(val_dicts,10):\n",
    "    print(d[\"file_name\"])\n",
    "    img = Image.open(d[\"file_name\"])\n",
    "    imgarray = np.array(img)[:, :, ::-1]\n",
    "    res = predictor(imgarray)\n",
    "\n",
    "    filename = val_dicts[0][\"file_name\"].split(\"\\\\\")[-1:][0]\n",
    "    predict_fle = os.path.join(predict_dir,filename)\n",
    "    v = Visualizer(img, metadata=val_metadata, scale=0.8)\n",
    "    v = v.draw_instance_predictions(res[\"instances\"].to(\"cpu\"))\n",
    "    cv2.imwrite(predict_fle,v.get_image()[:, :, ::-1]) #save predicted images"
   ]
  },
  {
   "cell_type": "code",
   "execution_count": 52,
   "id": "8299a25f",
   "metadata": {},
   "outputs": [
    {
     "data": {
      "text/plain": [
       "True"
      ]
     },
     "execution_count": 52,
     "metadata": {},
     "output_type": "execute_result"
    }
   ],
   "source": [
    "img = Image.open(val_dicts[2][\"file_name\"])\n",
    "imgarray = np.array(img)[:, :, ::-1]\n",
    "res = predictor(imgarray)\n",
    "\n",
    "filename = val_dicts[2][\"file_name\"].split(\"\\\\\")[-1:][0]\n",
    "v = Visualizer(img, metadata=val_metadata, scale=0.8)\n",
    "v = v.draw_instance_predictions(res[\"instances\"].to(\"cpu\"))\n",
    "cv2.imwrite(f\"{predict_dir}{filename}\",v.get_image()[:, :, ::-1])"
   ]
  },
  {
   "cell_type": "code",
   "execution_count": 54,
   "id": "e09c9472",
   "metadata": {},
   "outputs": [
    {
     "data": {
      "text/plain": [
       "array([47, 10, 47, 65,  3, 58])"
      ]
     },
     "execution_count": 54,
     "metadata": {},
     "output_type": "execute_result"
    }
   ],
   "source": []
  },
  {
   "cell_type": "code",
   "execution_count": 55,
   "id": "d7df664f",
   "metadata": {},
   "outputs": [],
   "source": [
    "for ind in np.random.randint(0,len(val_dicts),6):\n",
    "    img = Image.open(val_dicts[ind][\"file_name\"])\n",
    "    imgarray = np.array(img)[:, :, ::-1]\n",
    "    res = predictor(imgarray)\n",
    "\n",
    "    filename = val_dicts[ind][\"file_name\"].split(\"\\\\\")[-1:][0]\n",
    "    v = Visualizer(img, metadata=val_metadata, scale=0.8)\n",
    "    v = v.draw_instance_predictions(res[\"instances\"].to(\"cpu\"))\n",
    "    cv2.imwrite(f\"{predict_dir}{filename}\",v.get_image()[:, :, ::-1])\n",
    "    plt.imshow(v.get_image()[:, :, ::-1])"
   ]
  },
  {
   "cell_type": "code",
   "execution_count": null,
   "id": "92f15d48",
   "metadata": {},
   "outputs": [],
   "source": []
  }
 ],
 "metadata": {
  "kernelspec": {
   "display_name": "Python 3 (ipykernel)",
   "language": "python",
   "name": "python3"
  },
  "language_info": {
   "codemirror_mode": {
    "name": "ipython",
    "version": 3
   },
   "file_extension": ".py",
   "mimetype": "text/x-python",
   "name": "python",
   "nbconvert_exporter": "python",
   "pygments_lexer": "ipython3",
   "version": "3.8.16"
  }
 },
 "nbformat": 4,
 "nbformat_minor": 5
}
