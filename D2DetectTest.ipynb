{
 "cells": [
  {
   "cell_type": "code",
   "execution_count": 1,
   "id": "0421db84",
   "metadata": {},
   "outputs": [],
   "source": [
    "import os, json, cv2, random,json\n",
    "from PIL import Image\n",
    "import numpy as np\n",
    "import matplotlib.pyplot as plt\n",
    "%matplotlib inline\n",
    "\n",
    "from detectron2.data.datasets import register_coco_instances\n",
    "from detectron2.data import MetadataCatalog, DatasetCatalog\n",
    "from detectron2.utils.visualizer import Visualizer\n",
    "from detectron2.engine import DefaultPredictor\n",
    "from detectron2.config import get_cfg\n",
    "from detectron2 import model_zoo"
   ]
  },
  {
   "cell_type": "code",
   "execution_count": 3,
   "id": "6ce8ef94",
   "metadata": {},
   "outputs": [
    {
     "name": "stderr",
     "output_type": "stream",
     "text": [
      "\n",
      "Category ids in annotations are not in [1, #categories]! We'll apply a mapping for you.\n",
      "\n"
     ]
    }
   ],
   "source": [
    "cfg = get_cfg()\n",
    "cfg.merge_from_file(model_zoo.get_config_file(\"./COCO-Detection/faster_rcnn_R_101_FPN_3x.yaml\"))\n",
    "cfg.MODEL.ROI_HEADS.SCORE_THRESH_TEST = 0.7   # set a custom testing threshold\n",
    "cfg.MODEL.ROI_HEADS.NUM_CLASSES = 2\n",
    "# cfg.MODEL.WEIGHTS = \"./OutputModels/model_final.pth\"\n",
    "cfg.MODEL.WEIGHTS = \"./OutputModelsDect/model_final.pth\"\n",
    "cfg.MODEL.DEVICE = \"cpu\"\n",
    "\n",
    "\n",
    "\n",
    "classes = [\"benign\",\"malignant\"]\n",
    "dataset_name = \"val\"\n",
    "MetadataCatalog.get(dataset_name).set(things_classes = classes)\n",
    "register_coco_instances(\"val\",{},\"Data/val.json\",\"Data/val\")\n",
    "val_metadata = MetadataCatalog.get('val')\n",
    "val_dicts = DatasetCatalog.get('val')\n",
    "\n",
    "predictor = DefaultPredictor(cfg)\n",
    "\n",
    "classes = [\"benign\",\"malignant\"]\n",
    "\n",
    "upload_dir = \"./uploadeImages/\"\n",
    "predict_dir = \"./predictedImages/\"\n",
    "os.makedirs(upload_dir,exist_ok=True)\n",
    "os.makedirs(predict_dir,exist_ok=True)"
   ]
  },
  {
   "cell_type": "code",
   "execution_count": null,
   "id": "70247211",
   "metadata": {},
   "outputs": [
    {
     "data": {
      "application/vnd.jupyter.widget-view+json": {
       "model_id": "e99c5020d3fb4af49d8a36f4b45d40f6",
       "version_major": 2,
       "version_minor": 0
      },
      "text/plain": [
       "  0%|          | 0/10 [00:00<?, ?it/s]"
      ]
     },
     "metadata": {},
     "output_type": "display_data"
    },
    {
     "name": "stdout",
     "output_type": "stream",
     "text": [
      "Data/val\\ISIC_6841294A3.jpg\n",
      "Data/val\\ISIC_6392461A3.jpg\n",
      "Data/val\\ISIC_9957107.jpg\n",
      "Data/val\\ISIC_9174306.jpg\n",
      "Data/val\\ISIC_0261499.jpg\n",
      "Data/val\\ISIC_6535558A1.jpg\n",
      "Data/val\\ISIC_0539604.jpg\n"
     ]
    }
   ],
   "source": [
    "from tqdm.notebook import tqdm\n",
    "for d in tqdm(random.sample(val_dicts,10)):\n",
    "    print(d[\"file_name\"])\n",
    "    img = Image.open(d[\"file_name\"])\n",
    "    imgarray = np.array(img)[:, :, ::-1]\n",
    "    res = predictor(imgarray)\n",
    "\n",
    "    filename = val_dicts[0][\"file_name\"].split(\"\\\\\")[-1:][0]\n",
    "#     predict_fle = os.path.join(predict_dir,filename)\n",
    "    v = Visualizer(img, metadata=val_metadata, scale=0.8)\n",
    "    v = v.draw_instance_predictions(res[\"instances\"].to(\"cpu\"))\n",
    "    cv2.imwrite(f\"{predict_dir}{filename}\",v.get_image()[:, :, ::-1]) #save predicted images"
   ]
  },
  {
   "cell_type": "code",
   "execution_count": 52,
   "id": "8299a25f",
   "metadata": {},
   "outputs": [
    {
     "data": {
      "text/plain": [
       "True"
      ]
     },
     "execution_count": 52,
     "metadata": {},
     "output_type": "execute_result"
    }
   ],
   "source": [
    "img = Image.open(val_dicts[2][\"file_name\"])\n",
    "imgarray = np.array(img)[:, :, ::-1]\n",
    "res = predictor(imgarray)\n",
    "\n",
    "filename = val_dicts[2][\"file_name\"].split(\"\\\\\")[-1:][0]\n",
    "v = Visualizer(img, metadata=val_metadata, scale=0.8)\n",
    "v = v.draw_instance_predictions(res[\"instances\"].to(\"cpu\"))\n",
    "cv2.imwrite(f\"{predict_dir}{filename}\",v.get_image()[:, :, ::-1])"
   ]
  },
  {
   "cell_type": "code",
   "execution_count": 60,
   "id": "e09c9472",
   "metadata": {},
   "outputs": [],
   "source": [
    "from tqdm.notebook import tqdm"
   ]
  },
  {
   "cell_type": "code",
   "execution_count": 61,
   "id": "d7df664f",
   "metadata": {},
   "outputs": [
    {
     "data": {
      "application/vnd.jupyter.widget-view+json": {
       "model_id": "8669efa6730649a4bb79d42a647eace7",
       "version_major": 2,
       "version_minor": 0
      },
      "text/plain": [
       "  0%|          | 0/6 [00:00<?, ?it/s]"
      ]
     },
     "metadata": {},
     "output_type": "display_data"
    }
   ],
   "source": [
    "for ind in tqdm(np.random.randint(0,len(val_dicts),6)):\n",
    "    img = Image.open(val_dicts[ind][\"file_name\"])\n",
    "    imgarray = np.array(img)[:, :, ::-1]\n",
    "    res = predictor(imgarray)\n",
    "\n",
    "    filename = val_dicts[ind][\"file_name\"].split(\"\\\\\")[-1:][0]\n",
    "    v = Visualizer(img, metadata=val_metadata, scale=0.8)\n",
    "    v = v.draw_instance_predictions(res[\"instances\"].to(\"cpu\"))\n",
    "#     cv2.imwrite(f\"{predict_dir}{filename}\",v.get_image()[:, :, ::-1])\n",
    "    plt.imshow(v.get_image()[:, :, ::-1])"
   ]
  },
  {
   "cell_type": "code",
   "execution_count": null,
   "id": "92f15d48",
   "metadata": {},
   "outputs": [],
   "source": []
  }
 ],
 "metadata": {
  "kernelspec": {
   "display_name": "Python 3 (ipykernel)",
   "language": "python",
   "name": "python3"
  },
  "language_info": {
   "codemirror_mode": {
    "name": "ipython",
    "version": 3
   },
   "file_extension": ".py",
   "mimetype": "text/x-python",
   "name": "python",
   "nbconvert_exporter": "python",
   "pygments_lexer": "ipython3",
   "version": "3.8.16"
  }
 },
 "nbformat": 4,
 "nbformat_minor": 5
}
